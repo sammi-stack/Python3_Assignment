{
 "cells": [
  {
   "cell_type": "markdown",
   "metadata": {
    "id": "Hs3-rqQLaMOs"
   },
   "source": [
    "**Grand Assignment**"
   ]
  },
  {
   "cell_type": "markdown",
   "metadata": {
    "id": "yoFPv_Hcb3Iv"
   },
   "source": [
    "***Variables and Strings***"
   ]
  },
  {
   "cell_type": "markdown",
   "metadata": {
    "id": "XLAWmJh_b9vr"
   },
   "source": [
    "*1.**Simple Message:** Assign a message to a variable, and then print that\n",
    "message.* "
   ]
  },
  {
   "cell_type": "code",
   "execution_count": 3,
   "metadata": {
    "id": "Xu9FoVk1aKtu"
   },
   "outputs": [
    {
     "name": "stdout",
     "output_type": "stream",
     "text": [
      "My name is Sami Ahmed and My roll Number is PIAIC179613\n"
     ]
    }
   ],
   "source": [
    "message=\"My name is Sami Ahmed and My roll Number is PIAIC179613\"\n",
    "print(message)"
   ]
  },
  {
   "cell_type": "markdown",
   "metadata": {
    "id": "Ckp41qGzcMhY"
   },
   "source": [
    "2.Find a quote from a famous person you admire. Print the\n",
    "quote and the name of its author. Your output should look something like the\n",
    "following, including the quotation marks:\n",
    "\n",
    "**Albert Einstein once said, “A person who never made a\n",
    "mistake never tried anything new.”**\n"
   ]
  },
  {
   "cell_type": "code",
   "execution_count": 4,
   "metadata": {
    "id": "RAOYKTZDc9l5"
   },
   "outputs": [
    {
     "name": "stdout",
     "output_type": "stream",
     "text": [
      " Albert Einstein once said, “A person who never made a mistake never tried anything new.” \n"
     ]
    }
   ],
   "source": [
    "print(''' Albert Einstein once said, “A person who never made a mistake never tried anything new.” ''')"
   ]
  },
  {
   "cell_type": "markdown",
   "metadata": {
    "id": "5dsWBIrAduRU"
   },
   "source": [
    "*3. Use a variable to represent your favorite number. Then,\n",
    "using that variable, create a message that reveals your favorite number. Print\n",
    "that message*"
   ]
  },
  {
   "cell_type": "code",
   "execution_count": 5,
   "metadata": {
    "id": "n5bKUt2Xdxet"
   },
   "outputs": [
    {
     "name": "stdout",
     "output_type": "stream",
     "text": [
      "Enter Your Favourite Number:2\n",
      "Hello! My name is Haroon and my favourie number is : 2\n"
     ]
    }
   ],
   "source": [
    "fav_num =input((\"Enter Your Favourite Number:\" ))\n",
    "print(\"Hello! My name is Haroon and my favourie number is : \" + fav_num)"
   ]
  },
  {
   "cell_type": "markdown",
   "metadata": {
    "id": "03-7JmJFh1gu"
   },
   "source": [
    "4. **Calculate Area of a Circle::**\n",
    "\n",
    "Write a Python program which accepts the radius of a circle from the user and compute the area.\n",
    "\n",
    "Program Console Sample Output 1:\n",
    "\n",
    "Input Radius: 0.5\n",
    "\n",
    "Area of Circle with radius 0.5 is 0.7853981634"
   ]
  },
  {
   "cell_type": "code",
   "execution_count": 7,
   "metadata": {
    "id": "ZQqUhli7iD8V"
   },
   "outputs": [
    {
     "name": "stdout",
     "output_type": "stream",
     "text": [
      "Enter the radius of the circle : 0.5\n",
      "Input Radius: 0.5\n",
      "Area of Circle with radius 0.5 is 0.7855\n"
     ]
    }
   ],
   "source": [
    "radius = float(input(\"Enter the radius of the circle : \"))\n",
    "area = (3.142)*(radius)*(radius)\n",
    "print(\"Input Radius:\",radius)\n",
    "print(\"Area of Circle with radius\",radius,\"is\",area)"
   ]
  },
  {
   "cell_type": "markdown",
   "metadata": {
    "id": "_52LUHoriEdK"
   },
   "source": [
    "5. **Check Number either positive, negative or zero::**\n",
    "\n",
    "Write a Python program to check if a number is positive, \n",
    "\n",
    "negative or zero\n",
    "\n",
    "Program Console Sample Output 1:\n",
    "\n",
    "Enter Number: -1\n",
    "\n",
    "Negative Number Entered\n",
    "\n",
    "Program Console Sample Output 2:\n",
    "\n",
    "Integer: 3\n",
    "\n",
    "Positive Number Entered\n",
    "\n",
    "Program Console Sample Output 3:\n",
    "\n",
    "Integer: 0\n",
    "\n",
    "Zero Entered"
   ]
  },
  {
   "cell_type": "code",
   "execution_count": 9,
   "metadata": {
    "id": "_yLJAc80iXk0"
   },
   "outputs": [
    {
     "name": "stdout",
     "output_type": "stream",
     "text": [
      "Enter the number 3\n",
      "Positive Number Entered\n"
     ]
    }
   ],
   "source": [
    "num=int(input(\"Enter the number \"))\n",
    "if num < 0:\n",
    "    print(\"Negative Number Entered\")\n",
    "elif num > 0 :\n",
    "    print(\"Positive Number Entered\")\n",
    "else:\n",
    "    print(\" Zero Entered\")"
   ]
  },
  {
   "cell_type": "markdown",
   "metadata": {
    "id": "vjXA6uhpiYQX"
   },
   "source": [
    "6. **Vowel Tester**\n",
    "Write a Python program to test whether a passed letter is a vowel or not\n",
    "\n",
    "Program Console Output 1:\n",
    "\n",
    "Enter a character: A\n",
    "\n",
    "Letter A is Vowel\n",
    "\n",
    "Program Console Output 2:\n",
    "\n",
    "Enter a character: e\n",
    "\n",
    "Letter e is Vowel\n",
    "\n",
    "Program Console Output 2:\n",
    "\n",
    "Enter a character: N\n",
    "\n",
    "Letter N is not Vowel."
   ]
  },
  {
   "cell_type": "code",
   "execution_count": 11,
   "metadata": {
    "id": "L62zqtG1jEb9"
   },
   "outputs": [
    {
     "name": "stdout",
     "output_type": "stream",
     "text": [
      "Enter a character:e\n",
      "Letter e is Vowel\n"
     ]
    }
   ],
   "source": [
    "vowel = input(\"Enter a character:\")\n",
    "if vowel == 'A' or vowel == \"a\" or vowel == 'E' or vowel == 'e' or vowel == 'I' or vowel == 'i' or vowel == 'O' or vowel == 'o' or vowel == 'U' or vowel == 'u':\n",
    "    print('Letter',vowel,\"is Vowel\")\n",
    "else:\n",
    "    print(\"Letter\",vowel,\"is not vowel\")"
   ]
  },
  {
   "cell_type": "markdown",
   "metadata": {
    "id": "qZIGjsnDjFdk"
   },
   "source": [
    "7. **BMI Calculator**\n",
    "\n",
    "Write a Python program to calculate body mass index\n",
    "Program Console Sample 1:\n",
    "\n",
    "Enter Height in Cm: 180\n",
    "\n",
    "Enter Weight in Kg: 75\n",
    "\n",
    "Your BMI is 23.15"
   ]
  },
  {
   "cell_type": "code",
   "execution_count": 13,
   "metadata": {
    "id": "lE-JyyTnjcJU"
   },
   "outputs": [
    {
     "name": "stdout",
     "output_type": "stream",
     "text": [
      "Enter Height in Cm : 180\n",
      "Enter Weight in Kg  : 75\n",
      "Your BMI is  23.148148148148145\n"
     ]
    }
   ],
   "source": [
    "height=float(input(\"Enter Height in Cm : \"))\n",
    "weight=float(input(\"Enter Weight in Kg  : \"))\n",
    "BMI=weight/ (height/100)**2\n",
    "print(\"Your BMI is \",BMI)"
   ]
  },
  {
   "cell_type": "markdown",
   "metadata": {
    "id": "11fYzZYid3qq"
   },
   "source": [
    "**List::**"
   ]
  },
  {
   "cell_type": "markdown",
   "metadata": {
    "id": "oUNnrKdyeOks"
   },
   "source": [
    "8. **Store the names of a few of your friends in a list called names**\n",
    "\n",
    " Print each person’s name by accessing each element in the list, one at a time."
   ]
  },
  {
   "cell_type": "code",
   "execution_count": 15,
   "metadata": {
    "id": "RY49qmHQeOGB"
   },
   "outputs": [
    {
     "name": "stdout",
     "output_type": "stream",
     "text": [
      "maryam\n",
      "sami\n",
      "abdullah\n",
      "ahmed\n",
      "hamza\n"
     ]
    }
   ],
   "source": [
    "names=[\"maryam\",\"sami\",\"abdullah\",\"ahmed\",\"hamza\"]\n",
    "print(names[0])\n",
    "print(names[1])\n",
    "print(names[2])\n",
    "print(names[3])\n",
    "print(names[4])"
   ]
  },
  {
   "cell_type": "markdown",
   "metadata": {
    "id": "HQe4CmBLd0a0"
   },
   "source": [
    "9. Start with the list you used in Question 4, but instead of just  printing each person’s name, print a message to them. The text of each message should be the same, but each message should be personalized with the\n",
    "person’s name."
   ]
  },
  {
   "cell_type": "code",
   "execution_count": 16,
   "metadata": {
    "id": "QfaA6SZieroG"
   },
   "outputs": [
    {
     "name": "stdout",
     "output_type": "stream",
     "text": [
      "maryam You are my best friend\n",
      "sami You are my best friend\n",
      "abdullah You are my best friend\n",
      "ahmed You are my best friend\n",
      "hamza You are my best friend\n"
     ]
    }
   ],
   "source": [
    "print(names[0],\"You are my best friend\")\n",
    "print(names[1],\"You are my best friend\")\n",
    "print(names[2],\"You are my best friend\")\n",
    "print(names[3],\"You are my best friend\")\n",
    "print(names[4],\"You are my best friend\")"
   ]
  },
  {
   "cell_type": "markdown",
   "metadata": {
    "id": "3t-zoTSTesyI"
   },
   "source": [
    " 10.**Make a python program that conatains your nine favourite dishes in a list called foods.**\n",
    "Print the message, The first three items in the list are:\n",
    "\n",
    "Then use a slice to print the first three items from that program’s list.\n",
    "\n",
    "Print the message, Three items from the middle of the list are:\n",
    "\n",
    "Use a slice to print three items from the middle of the list.\n",
    "\n",
    "Print the message, The last three items in the list are:\n",
    "\n",
    "Use a slice to print the last three items in the list."
   ]
  },
  {
   "cell_type": "code",
   "execution_count": 17,
   "metadata": {
    "id": "ZpnPQbgAmQhu"
   },
   "outputs": [
    {
     "name": "stdout",
     "output_type": "stream",
     "text": [
      "The first three items in the list are ['biryani', 'burger', 'pizza']\n",
      "Three items from the middle of the list are ['pasta', 'macroni', 'spheghetti']\n",
      "The last three items in the list are ['nuggets', 'corn', 'mommos']\n"
     ]
    }
   ],
   "source": [
    "foods = ['biryani','burger','pizza','pasta','macroni','spheghetti','nuggets','corn','mommos']\n",
    "print('The first three items in the list are',foods[0:3])\n",
    "print('Three items from the middle of the list are',foods[3:6])\n",
    "print('The last three items in the list are',foods[6:])"
   ]
  },
  {
   "cell_type": "markdown",
   "metadata": {
    "id": "h37WaaZKmRMe"
   },
   "source": [
    "11. **Start with your program from your last Question8.**\n",
    "Make a copy of the list of foods, and call it friend_foods.\n",
    "Then, do the following:\n",
    "\n",
    "Add a new dish to the original list.\n",
    "\n",
    "Add a different dish to the list friend_foods.\n",
    "\n",
    "Prove that you have two separate lists.\n",
    "\n",
    "Print the message, My favorite pizzas are: and then use a for loop to print the first list.\n",
    "\n",
    "Print the message,\n",
    "\n",
    "My friend’s favorite foods are:, and then use a for loop to print the second list.\n",
    "\n",
    "NOTE: Make sure each new dish is stored in the appropriate list."
   ]
  },
  {
   "cell_type": "code",
   "execution_count": 18,
   "metadata": {
    "id": "6FvxV2CioBQB"
   },
   "outputs": [
    {
     "name": "stdout",
     "output_type": "stream",
     "text": [
      "FIRST LIST \n",
      "\n",
      "My favorite foods are : biryani \n",
      "\n",
      "My favorite foods are : zinger \n",
      "\n",
      "My favorite foods are : chinese \n",
      "\n",
      "My favorite foods are : pulao \n",
      "\n",
      "My favorite foods are : fish \n",
      "\n",
      "My favorite foods are : mandi \n",
      "\n",
      "My favorite foods are : karahi \n",
      "\n",
      "My favorite foods are : nehari \n",
      "\n",
      "My favorite foods are : roll \n",
      "\n",
      "My favorite foods are : white rice \n",
      "\n",
      "SECOND LIST \n",
      "\n",
      "My friend’s favorite foods are : biryani \n",
      "\n",
      "My friend’s favorite foods are : zinger \n",
      "\n",
      "My friend’s favorite foods are : chinese \n",
      "\n",
      "My friend’s favorite foods are : pulao \n",
      "\n",
      "My friend’s favorite foods are : fish \n",
      "\n",
      "My friend’s favorite foods are : mandi \n",
      "\n",
      "My friend’s favorite foods are : karahi \n",
      "\n",
      "My friend’s favorite foods are : nehari \n",
      "\n",
      "My friend’s favorite foods are : roll \n",
      "\n",
      "My friend’s favorite foods are : burger \n",
      "\n"
     ]
    }
   ],
   "source": [
    "foods=[\"biryani\",\"zinger\",\"chinese\",\"pulao\",\"fish\",\"mandi\",\"karahi\",\"nehari\",\"roll\"]\n",
    "friend_foods=[\"biryani\",\"zinger\",\"chinese\",\"pulao\",\"fish\",\"mandi\",\"karahi\",\"nehari\",\"roll\"]\n",
    "foods.append(\"white rice\")\n",
    "friend_foods.append(\"burger\")\n",
    "print(\"FIRST LIST \" + \"\\n\")\n",
    "for food in foods:\n",
    "    print(\"My favorite foods are :\",food ,\"\\n\")\n",
    "    \n",
    "print(\"SECOND LIST \" + \"\\n\")    \n",
    "for friend_food in  friend_foods:\n",
    "    print(\"My friend’s favorite foods are :\",friend_food ,\"\\n\")"
   ]
  },
  {
   "cell_type": "code",
   "execution_count": null,
   "metadata": {},
   "outputs": [],
   "source": []
  }
 ],
 "metadata": {
  "colab": {
   "collapsed_sections": [],
   "name": "Assignment.ipynb",
   "provenance": []
  },
  "kernelspec": {
   "display_name": "Python 3 (ipykernel)",
   "language": "python",
   "name": "python3"
  },
  "language_info": {
   "codemirror_mode": {
    "name": "ipython",
    "version": 3
   },
   "file_extension": ".py",
   "mimetype": "text/x-python",
   "name": "python",
   "nbconvert_exporter": "python",
   "pygments_lexer": "ipython3",
   "version": "3.7.0"
  }
 },
 "nbformat": 4,
 "nbformat_minor": 1
}
